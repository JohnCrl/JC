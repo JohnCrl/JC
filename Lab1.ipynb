{
  "nbformat": 4,
  "nbformat_minor": 0,
  "metadata": {
    "colab": {
      "name": "Lab1.ipynb",
      "provenance": [],
      "collapsed_sections": [],
      "authorship_tag": "ABX9TyMZpWbqtVSznuM84JEtRxCk",
      "include_colab_link": true
    },
    "kernelspec": {
      "name": "python3",
      "display_name": "Python 3"
    },
    "language_info": {
      "name": "python"
    }
  },
  "cells": [
    {
      "cell_type": "markdown",
      "metadata": {
        "id": "view-in-github",
        "colab_type": "text"
      },
      "source": [
        "<a href=\"https://colab.research.google.com/github/JohnCrl/JC/blob/main/Lab1.ipynb\" target=\"_parent\"><img src=\"https://colab.research.google.com/assets/colab-badge.svg\" alt=\"Open In Colab\"/></a>"
      ]
    },
    {
      "cell_type": "code",
      "metadata": {
        "colab": {
          "base_uri": "https://localhost:8080/"
        },
        "id": "feGhhQTUbXbh",
        "outputId": "7095f4b5-3ce8-4808-f137-0a6ce80fed75"
      },
      "source": [
        "I=\"Welcome to Phyton Programming\"\n",
        "II=\"Bañadera John Carl F.\"\n",
        "III=\"Lot 1373 C-2 Marseilla St. Bagbag II, Rosario Cavite\"\n",
        "IV=\"20 years Old\"\n",
        "print(I)\n",
        "print(II)\n",
        "print(III)\n",
        "print(IV)\n"
      ],
      "execution_count": 1,
      "outputs": [
        {
          "output_type": "stream",
          "name": "stdout",
          "text": [
            "Welcome to Phyton Programming\n",
            "Bañadera John Carl F.\n",
            "Lot 1373 C-2 Marseilla St. Bagbag II, Rosario Cavite\n",
            "20 years Old\n"
          ]
        }
      ]
    }
  ]
}